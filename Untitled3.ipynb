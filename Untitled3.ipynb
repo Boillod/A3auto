{
 "cells": [
  {
   "cell_type": "code",
   "execution_count": 2,
   "metadata": {},
   "outputs": [],
   "source": [
    "import numpy as np\n",
    "import cv2\n",
    "import imutils\n",
    "from matplotlib import pyplot as plt"
   ]
  },
  {
   "cell_type": "code",
   "execution_count": 6,
   "metadata": {},
   "outputs": [
    {
     "data": {
      "text/plain": [
       "-1"
      ]
     },
     "execution_count": 6,
     "metadata": {},
     "output_type": "execute_result"
    }
   ],
   "source": [
    "img=cv2.imread('lightstest2.jpg',1)\n",
    "img_hsv=cv2.cvtColor(img, cv2.COLOR_BGR2HSV)\n",
    "\n",
    "lower = np.array([0,0,230])\n",
    "upper = np.array([255,255,255])\n",
    "mask_light = cv2.inRange(img_hsv, lower, upper)\n",
    "img_light=cv2.bitwise_and(img,img,mask=mask_light);\n",
    "cv2.imshow(\"stoptest\", img_light)\n",
    "cv2.waitKey(0)\n",
    "\n",
    "#green\n",
    "lower_green = np.array([34, 50, 50],np.uint8)\n",
    "upper_green = np.array([72, 255, 255],np.uint8)\n",
    "img_green=cv2.inRange(img_hsv,lower_green,upper_green)\n",
    "#yellow\n",
    "lower_yellow = np.array([20, 50, 50],np.uint8)\n",
    "upper_yellow = np.array([33, 255, 255],np.uint8)\n",
    "img_yellow=cv2.inRange(img_hsv,lower_yellow,upper_yellow)\n",
    "#orange\n",
    "lower_orange = np.array([10, 50, 50],np.uint8)\n",
    "upper_orange = np.array([20, 255, 255],np.uint8)\n",
    "img_orange=cv2.inRange(img_hsv,lower_orange,upper_orange)        \n",
    "#red\n",
    "        #red has to be done twice because the revolving ends and starts by red\n",
    "lower_red1 = np.array([0,50,50])\n",
    "upper_red1 = np.array([9,255,255])\n",
    "lower_red2 = np.array([170,50,50])\n",
    "upper_red2 = np.array([180,255,255])\n",
    "mask0 = cv2.inRange(img_hsv, lower_red1, upper_red1)\n",
    "mask1 = cv2.inRange(img_hsv, lower_red2, upper_red2)\n",
    "mask = mask0+mask1\n",
    "mask=cv2.bitwise_or(mask,img_orange)\n",
    "mask=cv2.bitwise_or(mask,img_yellow)\n",
    "mask=cv2.bitwise_or(mask,img_green)\n",
    "\n",
    "mask=cv2.bitwise_and(img,img,mask=mask)\n",
    "cv2.imshow(\"lafin\",mask)\n",
    "cv2.waitKey(0)"
   ]
  },
  {
   "cell_type": "code",
   "execution_count": 5,
   "metadata": {},
   "outputs": [
    {
     "ename": "IndentationError",
     "evalue": "unexpected indent (<ipython-input-5-e94e5a5a3cfe>, line 2)",
     "output_type": "error",
     "traceback": [
      "\u001b[1;36m  File \u001b[1;32m\"<ipython-input-5-e94e5a5a3cfe>\"\u001b[1;36m, line \u001b[1;32m2\u001b[0m\n\u001b[1;33m    lower_green = np.array([34, 50, 50],np.uint8)\u001b[0m\n\u001b[1;37m    ^\u001b[0m\n\u001b[1;31mIndentationError\u001b[0m\u001b[1;31m:\u001b[0m unexpected indent\n"
     ]
    }
   ],
   "source": [
    "#green\n",
    "        lower_green = np.array([34, 50, 50],np.uint8)\n",
    "        upper_green = np.array([72, 255, 255],np.uint8)\n",
    "#yellow\n",
    "        lower_yellow = np.array([20, 50, 50],np.uint8)\n",
    "        upper_yellow = np.array([33, 255, 255],np.uint8)\n",
    "#orange\n",
    "        lower_orange = np.array([10, 50, 50],np.uint8)\n",
    "        upper_orange = np.array([20, 255, 255],np.uint8)\n",
    "#red\n",
    "        #red has to be done twice because the revolving ends and starts by red\n",
    "        lower_red1 = np.array([0,50,50])\n",
    "        upper_red1 = np.array([9,255,255])\n",
    "        lower_red2 = np.array([170,50,50])\n",
    "        upper_red2 = np.array([180,255,255])"
   ]
  },
  {
   "cell_type": "code",
   "execution_count": null,
   "metadata": {},
   "outputs": [],
   "source": []
  }
 ],
 "metadata": {
  "kernelspec": {
   "display_name": "Python 3",
   "language": "python",
   "name": "python3"
  },
  "language_info": {
   "codemirror_mode": {
    "name": "ipython",
    "version": 3
   },
   "file_extension": ".py",
   "mimetype": "text/x-python",
   "name": "python",
   "nbconvert_exporter": "python",
   "pygments_lexer": "ipython3",
   "version": "3.7.2"
  }
 },
 "nbformat": 4,
 "nbformat_minor": 2
}

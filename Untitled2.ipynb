{
 "cells": [
  {
   "cell_type": "code",
   "execution_count": 1,
   "metadata": {},
   "outputs": [],
   "source": [
    "import cv2\n",
    "import numpy as np\n",
    "import scipy as cp\n",
    "import cython\n",
    "from matplotlib import pyplot as plt"
   ]
  },
  {
   "cell_type": "code",
   "execution_count": 3,
   "metadata": {},
   "outputs": [],
   "source": [
    "%load_ext Cython"
   ]
  },
  {
   "cell_type": "code",
   "execution_count": 3,
   "metadata": {},
   "outputs": [],
   "source": [
    "import imutils"
   ]
  },
  {
   "cell_type": "code",
   "execution_count": 10,
   "metadata": {},
   "outputs": [],
   "source": [
    "#%%cython -a\n",
    "\n",
    "img1 = cv2.imread('stoptest.jpg',1)\n",
    "\n",
    "lower_red1 = np.array([0,50,50])\n",
    "upper_red1 = np.array([10,255,255])\n",
    "lower_red2 = np.array([170,50,50])\n",
    "upper_red2 = np.array([180,255,255])\n",
    "img_hsv=cv2.cvtColor(img1, cv2.COLOR_BGR2HSV)\n",
    "mask0 = cv2.inRange(img_hsv, lower_red1, upper_red1)\n",
    "mask1 = cv2.inRange(img_hsv, lower_red2, upper_red2)\n",
    "mask = mask0+mask1\n",
    "kernel = np.ones((4,4),np.uint8)\n",
    "opening = cv2.morphologyEx(mask, cv2.MORPH_OPEN, kernel)\n",
    "contours= cv2.findContours(opening,cv2.RETR_TREE,cv2.CHAIN_APPROX_SIMPLE)\n",
    "contours = imutils.grab_contours(contours)\n",
    "c = max(contours, key = cv2.contourArea)\n",
    "\n",
    "peri = cv2.arcLength(c, True)\n",
    "\n",
    "approx = cv2.approxPolyDP(c, 0.015 * peri, True)\n",
    "\n",
    "if len(approx) == 8:\n",
    "    bound = cv2.minAreaRect(approx)\n",
    "    box = cv2.cv.BoxPoints(bound) if imutils.is_cv2() else cv2.boxPoints(bound)\n",
    "    box = np.int0(box)\n",
    "    cv2.drawContours(img1, [box], -1, (0, 255, 0), 2)\n",
    "    #cv2.drawContours(img1, [approx], -1, (0, 255, 0), 3)\n",
    "    cv2.imshow(\"stoptest\", img1)\n",
    "    cv2.waitKey(0)"
   ]
  },
  {
   "cell_type": "code",
   "execution_count": null,
   "metadata": {},
   "outputs": [],
   "source": []
  },
  {
   "cell_type": "code",
   "execution_count": null,
   "metadata": {},
   "outputs": [],
   "source": []
  }
 ],
 "metadata": {
  "kernelspec": {
   "display_name": "Python 3",
   "language": "python",
   "name": "python3"
  },
  "language_info": {
   "codemirror_mode": {
    "name": "ipython",
    "version": 3
   },
   "file_extension": ".py",
   "mimetype": "text/x-python",
   "name": "python",
   "nbconvert_exporter": "python",
   "pygments_lexer": "ipython3",
   "version": "3.7.2"
  }
 },
 "nbformat": 4,
 "nbformat_minor": 2
}

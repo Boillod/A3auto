{
 "cells": [
  {
   "cell_type": "code",
   "execution_count": 1,
   "metadata": {},
   "outputs": [],
   "source": [
    "import numpy as np\n",
    "import cv2\n",
    "import glob\n",
    "import imutils\n",
    "import scipy as cp"
   ]
  },
  {
   "cell_type": "code",
   "execution_count": null,
   "metadata": {},
   "outputs": [],
   "source": []
  },
  {
   "cell_type": "code",
   "execution_count": 3,
   "metadata": {},
   "outputs": [],
   "source": [
    "def undistort_img():\n",
    "    # Prepare object points 0,0,0 ... 8,5,0\n",
    "    criteria = (cv2.TERM_CRITERIA_EPS + cv2.TERM_CRITERIA_MAX_ITER, 30, 0.001)\n",
    "    \n",
    "    obj_pts = np.zeros((6*9,3), np.float32)\n",
    "    obj_pts[:,:2] = np.mgrid[0:9, 0:6].T.reshape(-1,2)\n",
    "    # Stores all object points & img points from all images\n",
    "    objpoints = []\n",
    "    imgpoints = []\n",
    "    # Get directory for all calibration images\n",
    "    images = glob.glob('camera_cal/*.png')\n",
    "    for indx, fname in enumerate(images):\n",
    "        img = cv2.imread(fname)\n",
    "        gray = cv2.cvtColor(img, cv2.COLOR_BGR2GRAY)\n",
    "        ret, corners = cv2.findChessboardCorners(gray, (9,6), flags=cv2.CALIB_CB_ADAPTIVE_THRESH)\n",
    "        if ret == True:\n",
    "            objpoints.append(obj_pts)\n",
    "            corners2 = cv2.cornerSubPix(gray,corners,(5,5),(-1,-1),criteria)\n",
    "            imgpoints.append(corners2)\n",
    "    # Test undistortion on img\n",
    "    img_size = (img.shape[1], img.shape[0])\n",
    "    # Calibrate camera\n",
    "    ret, mtx, dist, rvecs, tvecs = cv2.calibrateCamera(objpoints, imgpoints, img_size, None,None)\n",
    "    \n",
    "    return mtx, dist"
   ]
  },
  {
   "cell_type": "code",
   "execution_count": 8,
   "metadata": {},
   "outputs": [],
   "source": [
    "\n",
    "def get_warp(IMAGE_H,IMAGE_W,):\n",
    "    src = np.float32([[0, IMAGE_H], [2500, IMAGE_H], [0, 0], [IMAGE_W, 0]])\n",
    "    dst = np.float32([[300, IMAGE_H], [600, IMAGE_H], [0, 0], [IMAGE_W, 0]])\n",
    "    M = cv2.getPerspectiveTransform(src, dst) # The transformation matrix\n",
    "    #Minv = cv2.getPerspectiveTransform(dst, src) # Inverse transformation\n",
    "\n",
    "     # Apply np slicing for ROI crop\n",
    "    return  M"
   ]
  },
  {
   "cell_type": "code",
   "execution_count": 51,
   "metadata": {},
   "outputs": [
    {
     "name": "stdout",
     "output_type": "stream",
     "text": [
      "0.0034235\n"
     ]
    }
   ],
   "source": [
    "\n",
    "    \n",
    "img2=cv2.imread('route.png')\n",
    "IMAGE_H = 480\n",
    "IMAGE_W = 640\n",
    "mtx,dist=undistort_img()\n",
    "M = get_warp(IMAGE_H,IMAGE_W)\n",
    "\n",
    "\n",
    "\n",
    "map1,map2=cv2.initUndistortRectifyMap(mtx,dist,None,mtx,(img2.shape[1],img2.shape[0]), cv2.CV_32FC1)\n",
    "\n",
    "distort=cv2.remap(img2,map1,map2,interpolation=cv2.INTER_LINEAR)\n",
    "\n",
    "\n",
    "distort = distort[100:(100+IMAGE_H), 0:IMAGE_W]\n",
    "e1=cv2.getTickCount()\n",
    "warped = cv2.warpPerspective(distort, M, (IMAGE_W, IMAGE_H),flags=cv2.INTER_NEAREST) \n",
    "e2=cv2.getTickCount()\n",
    "time = (e2 - e1)/ cv2.getTickFrequency()\n",
    "print(time)\n",
    "cv2.imshow('frame',warped)\n",
    "cv2.waitKey(0) \n",
    "cv2.destroyAllWindows()"
   ]
  },
  {
   "cell_type": "code",
   "execution_count": null,
   "metadata": {},
   "outputs": [],
   "source": []
  },
  {
   "cell_type": "code",
   "execution_count": null,
   "metadata": {},
   "outputs": [],
   "source": []
  },
  {
   "cell_type": "code",
   "execution_count": 32,
   "metadata": {},
   "outputs": [],
   "source": [
    "\n",
    "\n"
   ]
  },
  {
   "cell_type": "code",
   "execution_count": 12,
   "metadata": {},
   "outputs": [],
   "source": []
  },
  {
   "cell_type": "code",
   "execution_count": 16,
   "metadata": {},
   "outputs": [],
   "source": []
  },
  {
   "cell_type": "code",
   "execution_count": 62,
   "metadata": {},
   "outputs": [
    {
     "name": "stdout",
     "output_type": "stream",
     "text": [
      "0.0064326\n"
     ]
    }
   ],
   "source": [
    "img_hsv=cv2.cvtColor(warped,cv2.COLOR_BGR2HSV)\n",
    "\n",
    "window=20\n",
    "lower_white = np.array([0,0,255-window], dtype=np.uint8)\n",
    "upper_white = np.array([255,window,255], dtype=np.uint8)\n",
    "\n",
    "mask = cv2.inRange(img_hsv, lower_white, upper_white)\n",
    "contours=cv2.findContours(mask, cv2.RETR_CCOMP, cv2.CHAIN_APPROX_SIMPLE)\n",
    "contours= imutils.grab_contours(contours)\n",
    "\n",
    "\n",
    "c = max(contours, key = cv2.contourArea)\n",
    "\n",
    "peri = cv2.arcLength(c, True)\n",
    "c = cv2.approxPolyDP(c, 0.02 * peri, True)\n",
    "\n",
    "#y=c[:,0][:,0]\n",
    "#x=c[:,0][:,1]\n",
    "#x_min=x[np.argmin(x)]\n",
    "#x_max=x[np.argmax(x)]\n",
    "z = np.polyfit(x,y,5)\n",
    "f = np.poly1d(z)\n",
    "ploty = np.linspace(x_min, x_max, np.int((x_max-x_min)/10) )\n",
    "new=f(ploty)\n",
    "left = np.array([np.transpose(np.vstack([new,ploty]))])\n",
    "cv2.polylines(warped, np.int_(left),False, (45,25,0),2)\n",
    "\n",
    "test=np.zeros((480,640,1), np.uint8)\n",
    "cv2.fillConvexPoly(test,c,255)\n",
    "size = np.size(test)\n",
    "skel = np.zeros(test.shape,np.uint8)\n",
    "\n",
    "element = cv2.getStructuringElement(cv2.MORPH_CROSS,(3,3))\n",
    "done = False\n",
    "e1=cv2.getTickCount()\n",
    "while( not done):\n",
    "    eroded = cv2.erode(test,element)\n",
    "    temp = cv2.dilate(eroded,element)\n",
    "    temp = cv2.subtract(test,temp)\n",
    "    skel = cv2.bitwise_or(skel,temp)\n",
    "    test = eroded.copy()\n",
    "\n",
    "    zeros = size - cv2.countNonZero(test)\n",
    "    if zeros==size:\n",
    "        done = True\n",
    "e2=cv2.getTickCount()\n",
    "\n",
    "z = np.polyfit(x,y,5)\n",
    "f = np.poly1d(z)\n",
    "ploty = np.linspace(x_min, x_max, np.int((x_max-x_min)/10) )\n",
    "new=f(ploty)\n",
    "left = np.array([np.transpose(np.vstack([new,ploty]))])\n",
    "cv2.polylines(warped, np.int_(left),False, (45,25,0),2)\n",
    "time = (e2 - e1)/ cv2.getTickFrequency()\n",
    "print(time)\n",
    "skel=cv2.cvtColor(skel,cv2.COLOR_GRAY2BGR)\n",
    "skeletonize=cv2.bitwise_or(warped,skel)\n",
    "\n",
    "cv2.imshow('frame',skel)\n",
    "cv2.waitKey(0) \n",
    "cv2.destroyAllWindows()"
   ]
  },
  {
   "cell_type": "code",
   "execution_count": null,
   "metadata": {},
   "outputs": [],
   "source": []
  },
  {
   "cell_type": "code",
   "execution_count": null,
   "metadata": {},
   "outputs": [],
   "source": []
  }
 ],
 "metadata": {
  "kernelspec": {
   "display_name": "Python 3",
   "language": "python",
   "name": "python3"
  },
  "language_info": {
   "codemirror_mode": {
    "name": "ipython",
    "version": 3
   },
   "file_extension": ".py",
   "mimetype": "text/x-python",
   "name": "python",
   "nbconvert_exporter": "python",
   "pygments_lexer": "ipython3",
   "version": "3.7.2"
  }
 },
 "nbformat": 4,
 "nbformat_minor": 2
}

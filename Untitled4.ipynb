{
 "cells": [
  {
   "cell_type": "code",
   "execution_count": 1,
   "metadata": {},
   "outputs": [],
   "source": [
    "import cv2\n",
    "import numpy as np\n",
    "import scipy as cp\n",
    "import cython\n",
    "from matplotlib import pyplot as plt\n",
    "import imutils\n",
    "#import ggplot\n"
   ]
  },
  {
   "cell_type": "code",
   "execution_count": 2,
   "metadata": {},
   "outputs": [],
   "source": [
    "cv2.setUseOptimized(True)\n"
   ]
  },
  {
   "cell_type": "code",
   "execution_count": null,
   "metadata": {},
   "outputs": [],
   "source": []
  },
  {
   "cell_type": "code",
   "execution_count": 8,
   "metadata": {},
   "outputs": [
    {
     "name": "stdout",
     "output_type": "stream",
     "text": [
      "0.0060681\n"
     ]
    }
   ],
   "source": [
    "img=cv2.imread('linetest2.jpg',1)\n",
    "e1 = cv2.getTickCount()\n",
    "img_hsv=cv2.cvtColor(img,cv2.COLOR_BGR2HSV)\n",
    "window=45\n",
    "lower_white = np.array([0,0,255-window], dtype=np.uint8)\n",
    "upper_white = np.array([255,window,255], dtype=np.uint8)\n",
    "\n",
    "mask = cv2.inRange(img_hsv, lower_white, upper_white)\n",
    "\n",
    "contours= imutils.grab_contours(cv2.findContours(mask, cv2.RETR_CCOMP, cv2.CHAIN_APPROX_SIMPLE))\n",
    "\n",
    "c = max(contours, key = cv2.contourArea)\n",
    "#rows,cols = img.shape[:2]\n",
    "#[vx,vy,x,y] = cv2.fitLine(c, cv2.DIST_L2,0,0.01,0.01)\n",
    "#lefty = int((-x*vy/vx) + y)\n",
    "#righty = int(((cols-x)*vy/vx)+y)\n",
    "#cv2.line(img,(cols-1,righty),(0,lefty),(0,255,0),2)\n",
    "\n",
    "y=c[:,0][:,0]\n",
    "x=c[:,0][:,1]\n",
    "x_min=x[np.argmin(x)]\n",
    "x_max=x[np.argmax(x)]\n",
    "z = np.polyfit(x,y,10)\n",
    "f = np.poly1d(z)\n",
    "ploty = np.linspace(x_min, x_max, np.int((x_max-x_min)/10) )\n",
    "new=f(ploty)\n",
    "left = np.array([np.transpose(np.vstack([new,ploty]))])\n",
    "cv2.polylines(img, np.int_(left),False, (45,25,0),2)\n",
    "#plt.plot(x,y,'ro', ploty, new,'g')\n",
    "#plt.show()\n",
    "cv2.drawContours(img,[c],0,(0,255,0),2)\n",
    "e2 = cv2.getTickCount()\n",
    "time = (e2 - e1)/ cv2.getTickFrequency()\n",
    "print(time)\n",
    "cv2.imshow('frame',img)\n",
    "cv2.waitKey(0) \n",
    "cv2.destroyAllWindows()"
   ]
  },
  {
   "cell_type": "code",
   "execution_count": 112,
   "metadata": {},
   "outputs": [
    {
     "name": "stdout",
     "output_type": "stream",
     "text": [
      "a\n"
     ]
    }
   ],
   "source": [
    "print(\"a\")"
   ]
  },
  {
   "cell_type": "code",
   "execution_count": null,
   "metadata": {},
   "outputs": [],
   "source": []
  }
 ],
 "metadata": {
  "kernelspec": {
   "display_name": "Python 3",
   "language": "python",
   "name": "python3"
  },
  "language_info": {
   "codemirror_mode": {
    "name": "ipython",
    "version": 3
   },
   "file_extension": ".py",
   "mimetype": "text/x-python",
   "name": "python",
   "nbconvert_exporter": "python",
   "pygments_lexer": "ipython3",
   "version": "3.7.2"
  }
 },
 "nbformat": 4,
 "nbformat_minor": 2
}

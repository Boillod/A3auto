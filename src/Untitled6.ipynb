{
 "cells": [
  {
   "cell_type": "code",
   "execution_count": 1,
   "metadata": {},
   "outputs": [],
   "source": [
    "import numpy as np\n",
    "import cv2\n",
    "import glob\n",
    "import imutils\n",
    "import scipy as cp\n",
    "from imutils import perspective"
   ]
  },
  {
   "cell_type": "code",
   "execution_count": 2,
   "metadata": {},
   "outputs": [],
   "source": [
    "def get_color_masks(img,window=20):\n",
    "    \n",
    "    #white\n",
    "    lower_white = np.array([0,0,255-window], dtype=np.uint8)\n",
    "    upper_white = np.array([255,window,255], dtype=np.uint8)\n",
    "    white = cv2.inRange(img, lower_white, upper_white)\n",
    "    \n",
    "    #green\n",
    "    lower_green = np.array([34, 50, 50],np.uint8)\n",
    "    upper_green = np.array([72, 255, 255],np.uint8)\n",
    "    green=cv2.inRange(img,lower_green,upper_green)\n",
    "    \n",
    "    #yellow\n",
    "    lower_yellow = np.array([20, 50, 50],np.uint8)\n",
    "    upper_yellow = np.array([33, 255, 255],np.uint8)\n",
    "    yellow=cv2.inRange(img,lower_yellow,upper_yellow)\n",
    "    \n",
    "    #red\n",
    "    #red has to be done twice because the revolving ends and starts by red\n",
    "    lower_red1 = np.array([0,50,50])\n",
    "    upper_red1 = np.array([9,255,255])\n",
    "    lower_red2 = np.array([170,50,50])\n",
    "    upper_red2 = np.array([180,255,255])\n",
    "    mask0 = cv2.inRange(img, lower_red1, upper_red1)\n",
    "    mask1 = cv2.inRange(img, lower_red2, upper_red2)\n",
    "    red = mask0+mask1\n",
    "    return white,red,yellow,green\n",
    "    "
   ]
  },
  {
   "cell_type": "code",
   "execution_count": 3,
   "metadata": {},
   "outputs": [],
   "source": [
    "def undistort_img():\n",
    "    # Prepare object points 0,0,0 ... 8,5,0\n",
    "    criteria = (cv2.TERM_CRITERIA_EPS + cv2.TERM_CRITERIA_MAX_ITER, 30, 0.001)\n",
    "    \n",
    "    obj_pts = np.zeros((6*9,3), np.float32)\n",
    "    obj_pts[:,:2] = np.mgrid[0:9, 0:6].T.reshape(-1,2)\n",
    "    # Stores all object points & img points from all images\n",
    "    objpoints = []\n",
    "    imgpoints = []\n",
    "    # Get directory for all calibration images\n",
    "    images = glob.glob('camera_cal/*.png')\n",
    "    for indx, fname in enumerate(images):\n",
    "        img = cv2.imread(fname)\n",
    "        gray = cv2.cvtColor(img, cv2.COLOR_BGR2GRAY)\n",
    "        ret, corners = cv2.findChessboardCorners(gray, (9,6), flags=cv2.CALIB_CB_ADAPTIVE_THRESH)\n",
    "        if ret == True:\n",
    "            objpoints.append(obj_pts)\n",
    "            corners2 = cv2.cornerSubPix(gray,corners,(5,5),(-1,-1),criteria)\n",
    "            imgpoints.append(corners2)\n",
    "    # Test undistortion on img\n",
    "    img_size = (img.shape[1], img.shape[0])\n",
    "    # Calibrate camera\n",
    "    ret, mtx, dist, rvecs, tvecs = cv2.calibrateCamera(objpoints, imgpoints, img_size, None,None)\n",
    "    map1,map2=cv2.initUndistortRectifyMap(mtx,dist,None,mtx,(img.shape[1],img.shape[0]), cv2.CV_32FC1)\n",
    "    \n",
    "    return map1,map2"
   ]
  },
  {
   "cell_type": "code",
   "execution_count": 33,
   "metadata": {},
   "outputs": [],
   "source": [
    "\n",
    "def get_warp_perspective(IMAGE_H,IMAGE_W,):\n",
    "    src = np.float32([[0, IMAGE_H], [2500, IMAGE_H], [0, 0], [IMAGE_W, 0]])\n",
    "    dst = np.float32([[300, IMAGE_H], [600, IMAGE_H], [0, 0], [IMAGE_W, 0]])\n",
    "    M = cv2.getPerspectiveTransform(src, dst) # The transformation matrix\n",
    "    #Minv = cv2.getPerspectiveTransform(dst, src) # Inverse transformation\n",
    "\n",
    "     # Apply np slicing for ROI crop\n",
    "    return  M"
   ]
  },
  {
   "cell_type": "code",
   "execution_count": 18,
   "metadata": {},
   "outputs": [],
   "source": [
    "def distance_to_camera(knownWidth, focalLength, perWidth):\n",
    "    # compute and return the distance from the maker to the camera\n",
    "    return (knownWidth * focalLength) / perWidth"
   ]
  },
  {
   "cell_type": "code",
   "execution_count": 19,
   "metadata": {},
   "outputs": [],
   "source": [
    "def find_marker(image):\n",
    "    # convert the image to grayscale, blur it, and detect edges\n",
    "    gray = cv2.cvtColor(image, cv2.COLOR_BGR2GRAY)\n",
    "    gray = cv2.GaussianBlur(gray, (5, 5), 0)\n",
    "    edged = cv2.Canny(gray, 35, 125)\n",
    " \n",
    "    # find the contours in the edged image and keep the largest one;\n",
    "    # we'll assume that this is our piece of paper in the image\n",
    "    cnts = cv2.findContours(edged.copy(), cv2.RETR_LIST, cv2.CHAIN_APPROX_SIMPLE)\n",
    "    cnts = imutils.grab_contours(cnts)\n",
    "    c = max(cnts, key = cv2.contourArea)\n",
    " \n",
    "    # compute the bounding box of the of the paper region and return it\n",
    "    return cv2.minAreaRect(c)\n",
    "# initialize the known distance from the camera to the object, which\n",
    "# in this case is 24 inches\n",
    "KNOWN_DISTANCE = 24.0\n",
    " \n",
    "# initialize the known object width, which in this case, the piece of\n",
    "# paper is 12 inches wide\n",
    "KNOWN_WIDTH = 11.0\n",
    " \n",
    "# load the furst image that contains an object that is KNOWN TO BE 2 feet\n",
    "# from our camera, then find the paper marker in the image, and initialize\n",
    "# the focal length\n",
    "image = cv2.imread(\"stoptest.jpg\")\n",
    "marker = find_marker(image)\n",
    "focalLength = (marker[1][0] * KNOWN_DISTANCE) / KNOWN_WIDTH"
   ]
  },
  {
   "cell_type": "code",
   "execution_count": 20,
   "metadata": {},
   "outputs": [],
   "source": [
    "def detect_stop_distance(img):\n",
    "\n",
    "    knownWitdh=12 #to be measured\n",
    "    focalLength=5 #to be measured\n",
    "    contours= cv2.findContours(opening,cv2.RETR_TREE,cv2.CHAIN_APPROX_SIMPLE)\n",
    "    contours = imutils.grab_contours(contours)\n",
    "    c = max(contours, key = cv2.contourArea)\n",
    "\n",
    "    peri = cv2.arcLength(c, True)\n",
    "\n",
    "    approx = cv2.approxPolyDP(c, 0.015 * peri, True)\n",
    "    \n",
    "    if len(approx) == 8:\n",
    "        perWidth = cv2.minAreaRect(approx)\n",
    "        distance = (knownWidth * focalLength) / perWidth[1][0]\n",
    "        return 1,distance\n",
    "    else:\n",
    "        return 0,0"
   ]
  },
  {
   "cell_type": "code",
   "execution_count": 57,
   "metadata": {},
   "outputs": [
    {
     "name": "stdout",
     "output_type": "stream",
     "text": [
      "0.0024686\n"
     ]
    }
   ],
   "source": [
    "\n",
    "img2=cv2.imread('route.png')\n",
    "IMAGE_H = 480\n",
    "IMAGE_W = 640\n",
    "map1,map2=undistort_img()\n",
    "M = get_warp_perspective(IMAGE_H,IMAGE_W)\n",
    "\n",
    "\n",
    "\n",
    "\n",
    "\n",
    "distort=cv2.remap(img2,map1,map2,interpolation=cv2.INTER_LINEAR)\n",
    "\n",
    "distort = distort[75:(IMAGE_H-75), 0:IMAGE_W]\n",
    "e1=cv2.getTickCount()\n",
    "warped = cv2.warpPerspective(distort, M, (IMAGE_W, IMAGE_H),flags=cv2.INTER_NEAREST) \n",
    "\n",
    "e2=cv2.getTickCount()\n",
    "time = (e2 - e1)/ cv2.getTickFrequency()\n",
    "print(time)\n",
    "cv2.imshow('frame',warped)\n",
    "cv2.waitKey(0) \n",
    "cv2.destroyAllWindows()"
   ]
  },
  {
   "cell_type": "code",
   "execution_count": null,
   "metadata": {},
   "outputs": [],
   "source": []
  },
  {
   "cell_type": "code",
   "execution_count": null,
   "metadata": {},
   "outputs": [],
   "source": []
  },
  {
   "cell_type": "code",
   "execution_count": null,
   "metadata": {},
   "outputs": [],
   "source": [
    "\n",
    "\n"
   ]
  },
  {
   "cell_type": "code",
   "execution_count": null,
   "metadata": {},
   "outputs": [],
   "source": []
  },
  {
   "cell_type": "code",
   "execution_count": 9,
   "metadata": {},
   "outputs": [],
   "source": []
  },
  {
   "cell_type": "code",
   "execution_count": 85,
   "metadata": {},
   "outputs": [
    {
     "name": "stdout",
     "output_type": "stream",
     "text": [
      "0.002641\n"
     ]
    }
   ],
   "source": [
    "img2=cv2.imread('route.png')\n",
    "IMAGE_H = 480\n",
    "IMAGE_W = 640\n",
    "map1,map2=undistort_img()\n",
    "\n",
    "\n",
    "distort=cv2.remap(img2,map1,map2,interpolation=cv2.INTER_LINEAR)\n",
    "#distort = imutils.translate(distort, 175, 0)\n",
    "img_hsv=cv2.cvtColor(distort,cv2.COLOR_BGR2HSV)\n",
    "\n",
    "\n",
    "\n",
    "window=20\n",
    "lower_white = np.array([0,0,255-window], dtype=np.uint8)\n",
    "upper_white = np.array([255,window,255], dtype=np.uint8)\n",
    "\n",
    "cxs=[]\n",
    "cys=[]\n",
    "e1=cv2.getTickCount()\n",
    "#e1=cv2.getTickCount()\n",
    "for i in range (350,100,-100):\n",
    "    slice = img_hsv[i:i+100, 0:640]\n",
    "    \n",
    "    mask = cv2.inRange(slice, lower_white, upper_white)\n",
    "    contours=cv2.findContours(mask, cv2.RETR_CCOMP, cv2.CHAIN_APPROX_SIMPLE)\n",
    "    contours= imutils.grab_contours(contours)\n",
    "    c = max(contours, key = cv2.contourArea)\n",
    "    peri = cv2.arcLength(c, True)\n",
    "    c = cv2.approxPolyDP(c, 0.02 * peri, True)\n",
    "    extLeft = c[c[:, :, 0].argmin()][0]\n",
    "    extRight = c[c[:, :, 0].argmax()][0]\n",
    "    diff=extRight[0]-extLeft[0]\n",
    "    if (diff<200):\n",
    "\n",
    "        #rect = cv2.minAreaRect(c)\n",
    "   \n",
    "        #box = cv2.boxPoints(rect)\n",
    "        #box = np.int0(box)\n",
    "        #box[:,1]=box[:,1]+i\n",
    "        #cv2.drawContours(img2,[box],0,(0,0,255),2)\n",
    "\n",
    "        M = cv2.moments(c)\n",
    "        cx = int(M['m10']/M['m00'])\n",
    "        cy = int(M['m01']/M['m00'])\n",
    "        cxs.append(cx)\n",
    "        cys.append(cy+i)\n",
    "        #cv2.circle(img2, (cx, cy+i), 4, (255, 0, 255), 2)\n",
    "    else:\n",
    "        for j in range (0,diff,80):\n",
    "            sub_slice = slice[0:100, extLeft[0]+j:extLeft[0]+j+100]\n",
    "            mask = cv2.inRange(sub_slice, lower_white, upper_white)\n",
    "            contours=cv2.findContours(mask, cv2.RETR_CCOMP, cv2.CHAIN_APPROX_SIMPLE)\n",
    "            contours= imutils.grab_contours(contours)\n",
    "            c = max(contours, key = cv2.contourArea)\n",
    "            peri = cv2.arcLength(c, True)\n",
    "            c = cv2.approxPolyDP(c, 0.02 * peri, True)\n",
    "            #rect = cv2.minAreaRect(c)\n",
    "   \n",
    "            #box = cv2.boxPoints(rect)\n",
    "            #box = np.int0(box)\n",
    "            #box[:,1]=box[:,1]+i\n",
    "            #box[:,0]=box[:,0]+j+extLeft[0]\n",
    "            #cv2.drawContours(img2,[box],0,(0,0,255),2)\n",
    "\n",
    "            M = cv2.moments(c)\n",
    "            cx = int(M['m10']/M['m00'])\n",
    "            cy = int(M['m01']/M['m00'])\n",
    "            cxs.append(cx+j+extLeft[0])\n",
    "            cys.append(cy+i)\n",
    "            #cv2.circle(img2, (cx+j+extLeft[0], cy+i), 4, (255, 0, 255), 2)\n",
    "        \n",
    "        \n",
    "\n",
    "for i in range (0,len(cxs)-1):\n",
    "    cv2.arrowedLine(img2, (cxs[i],cys[i]), (cxs[i+1],cys[i+1]), (0,0,255), 2)\n",
    "    ret = int(round(cv2.fastAtan2((cys[i]-cys[i+1]),(cxs[i+1]-cxs[i]))))\n",
    "    #print(ret)\n",
    "cxs = np.diff(cxs)\n",
    "cys = -1*np.diff(cys)\n",
    "dist=np.hypot(cxs,cys)\n",
    "e2=cv2.getTickCount()\n",
    "time=(e2-e1)/cv2.getTickFrequency()\n",
    "cv2.imshow('frame',img2)\n",
    "cv2.waitKey(0) \n",
    "cv2.destroyAllWindows()\n",
    "print(time)\n",
    "#size = np.size(test)\n",
    "#skel = np.zeros(test.shape,np.uint8)\n",
    "#test2=imutils.skeletonize(test,(3,3))\n",
    "#test2 = cv2.morphologyEx(test2, cv2.MORPH_OPEN, (3,3))\n",
    "\n",
    "#z = np.polyfit(x,y,5)\n",
    "#f = np.poly1d(z)\n",
    "#ploty = np.linspace(x_min, x_max, np.int((x_max-x_min)/10) )\n",
    "#new=f(ploty)\n",
    "#left = np.array([np.transpose(np.vstack([new,ploty]))])\n",
    "#cv2.polylines(warped, np.int_(left),False, (45,25,0),2)\n",
    "#time = (e2 - e1)/ cv2.getTickFrequency()\n",
    "#print(time)\n",
    "#skel=cv2.cvtColor(skel,cv2.COLOR_GRAY2BGR)\n",
    "#skeletonize=cv2.bitwise_or(warped,skel)\n"
   ]
  },
  {
   "cell_type": "code",
   "execution_count": 13,
   "metadata": {},
   "outputs": [
    {
     "name": "stdout",
     "output_type": "stream",
     "text": [
      "45\n"
     ]
    },
    {
     "ename": "AttributeError",
     "evalue": "module 'cv2.cv2' has no attribute 'SURF'",
     "output_type": "error",
     "traceback": [
      "\u001b[1;31m---------------------------------------------------------------------------\u001b[0m",
      "\u001b[1;31mAttributeError\u001b[0m                            Traceback (most recent call last)",
      "\u001b[1;32m<ipython-input-13-77b1677a8c58>\u001b[0m in \u001b[0;36m<module>\u001b[1;34m\u001b[0m\n\u001b[0;32m      1\u001b[0m \u001b[0mret\u001b[0m \u001b[1;33m=\u001b[0m \u001b[0mint\u001b[0m\u001b[1;33m(\u001b[0m\u001b[0mround\u001b[0m\u001b[1;33m(\u001b[0m\u001b[0mcv2\u001b[0m\u001b[1;33m.\u001b[0m\u001b[0mfastAtan2\u001b[0m\u001b[1;33m(\u001b[0m\u001b[1;36m50\u001b[0m\u001b[1;33m,\u001b[0m\u001b[1;36m50\u001b[0m\u001b[1;33m)\u001b[0m\u001b[1;33m)\u001b[0m\u001b[1;33m)\u001b[0m\u001b[1;33m\u001b[0m\u001b[1;33m\u001b[0m\u001b[0m\n\u001b[0;32m      2\u001b[0m \u001b[0mprint\u001b[0m\u001b[1;33m(\u001b[0m\u001b[0mret\u001b[0m\u001b[1;33m)\u001b[0m\u001b[1;33m\u001b[0m\u001b[1;33m\u001b[0m\u001b[0m\n\u001b[1;32m----> 3\u001b[1;33m \u001b[0msurf\u001b[0m\u001b[1;33m=\u001b[0m\u001b[0mcv2\u001b[0m\u001b[1;33m.\u001b[0m\u001b[0mSURF\u001b[0m\u001b[1;33m(\u001b[0m\u001b[1;36m400\u001b[0m\u001b[1;33m)\u001b[0m\u001b[1;33m\u001b[0m\u001b[1;33m\u001b[0m\u001b[0m\n\u001b[0m",
      "\u001b[1;31mAttributeError\u001b[0m: module 'cv2.cv2' has no attribute 'SURF'"
     ]
    }
   ],
   "source": [
    "ret = int(round(cv2.fastAtan2(50,50)))\n",
    "print(ret)\n",
    "surf=cv2.SURF(400)"
   ]
  },
  {
   "cell_type": "code",
   "execution_count": null,
   "metadata": {},
   "outputs": [],
   "source": [
    "element = cv2.getStructuringElement(cv2.MORPH_CROSS,(3,3))\n",
    "done = False\n",
    "e1=cv2.getTickCount()\n",
    "while( not done):\n",
    "    eroded = cv2.erode(test,element)\n",
    "    temp = cv2.dilate(eroded,element)\n",
    "    temp = cv2.subtract(test,temp)\n",
    "    skel = cv2.bitwise_or(skel,temp)\n",
    "    test = eroded.copy()\n",
    "\n",
    "    zeros = size - cv2.countNonZero(test)\n",
    "    if zeros==size:\n",
    "        done = True\n",
    "e2=cv2.getTickCount()"
   ]
  },
  {
   "cell_type": "code",
   "execution_count": null,
   "metadata": {},
   "outputs": [],
   "source": [
    "#y=c[:,0][:,0]\n",
    "#x=c[:,0][:,1]\n",
    "#x_min=x[np.argmin(x)]\n",
    "#x_max=x[np.argmax(x)]\n",
    "#z = np.polyfit(x,y,5)\n",
    "#f = np.poly1d(z)\n",
    "#ploty = np.linspace(x_min, x_max, np.int((x_max-x_min)/10) )\n",
    "#new=f(ploty)\n",
    "#left = np.array([np.transpose(np.vstack([new,ploty]))])\n",
    "#cv2.polylines(warped, np.int_(left),False, (45,25,0),2)\n",
    "\n",
    "#size = np.size(test)\n",
    "#skel = np.zeros(test.shape,np.uint8)\n",
    "#test2=imutils.skeletonize(test,(3,3))\n",
    "#test2 = cv2.morphologyEx(test2, cv2.MORPH_OPEN, (3,3))\n",
    "\n",
    "#z = np.polyfit(x,y,5)\n",
    "#f = np.poly1d(z)\n",
    "#ploty = np.linspace(x_min, x_max, np.int((x_max-x_min)/10) )\n",
    "#new=f(ploty)\n",
    "#left = np.array([np.transpose(np.vstack([new,ploty]))])\n",
    "#cv2.polylines(warped, np.int_(left),False, (45,25,0),2)\n",
    "#time = (e2 - e1)/ cv2.getTickFrequency()\n",
    "#print(time)\n",
    "#skel=cv2.cvtColor(skel,cv2.COLOR_GRAY2BGR)\n",
    "#skeletonize=cv2.bitwise_or(warped,skel)"
   ]
  }
 ],
 "metadata": {
  "kernelspec": {
   "display_name": "Python 3",
   "language": "python",
   "name": "python3"
  },
  "language_info": {
   "codemirror_mode": {
    "name": "ipython",
    "version": 3
   },
   "file_extension": ".py",
   "mimetype": "text/x-python",
   "name": "python",
   "nbconvert_exporter": "python",
   "pygments_lexer": "ipython3",
   "version": "3.7.2"
  }
 },
 "nbformat": 4,
 "nbformat_minor": 2
}
